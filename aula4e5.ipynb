{
  "nbformat": 4,
  "nbformat_minor": 0,
  "metadata": {
    "colab": {
      "provenance": []
    },
    "kernelspec": {
      "name": "python3",
      "display_name": "Python 3"
    },
    "language_info": {
      "name": "python"
    }
  },
  "cells": [
    {
      "cell_type": "code",
      "execution_count": null,
      "metadata": {
        "colab": {
          "base_uri": "https://localhost:8080/"
        },
        "id": "THvSPKikZK-Q",
        "outputId": "ae30b474-ab33-4f33-fe49-3199d88d4fd2"
      },
      "outputs": [
        {
          "output_type": "stream",
          "name": "stdout",
          "text": [
            "CLOVES\n",
            "<class 'int'>\n"
          ]
        }
      ],
      "source": [
        "# UNINASSAU CC 2MA\n",
        "# DOCENTE: CLOVES\n",
        "# ESTUDANTE: ...\n",
        "# TIPOS PRIMITIVOS DE DADOS - PYTHON\n",
        "print('CLOVES')\n",
        "c = 10\n",
        "print(type(c))\n"
      ]
    },
    {
      "cell_type": "code",
      "source": [
        "# 3. Operadores Aritméticos - Python\n",
        "\n",
        "#10 + 9\n",
        "#10 - 9\n",
        "#10 * 9\n",
        "#10 / 3\n",
        "#10 // 3\n",
        "#3 ** 5\n",
        "10 % 3"
      ],
      "metadata": {
        "colab": {
          "base_uri": "https://localhost:8080/"
        },
        "id": "yOmZPTW_bl9p",
        "outputId": "25b20ec6-f06b-468e-f2eb-f820f63d7a76"
      },
      "execution_count": null,
      "outputs": [
        {
          "output_type": "execute_result",
          "data": {
            "text/plain": [
              "1"
            ]
          },
          "metadata": {},
          "execution_count": 8
        }
      ]
    },
    {
      "cell_type": "code",
      "source": [
        "c = 10 // 3\n",
        "print(c)"
      ],
      "metadata": {
        "colab": {
          "base_uri": "https://localhost:8080/"
        },
        "id": "s-9zU4z8dAMf",
        "outputId": "d374a6b8-c52a-495f-85bc-161f74736313"
      },
      "execution_count": null,
      "outputs": [
        {
          "output_type": "stream",
          "name": "stdout",
          "text": [
            "3\n"
          ]
        }
      ]
    },
    {
      "cell_type": "code",
      "source": [
        "# 4. Operadores Relacionais Simples.\n",
        "#7 > 15\n",
        "#10 < 11\n",
        "a = 11\n",
        "b = 10\n",
        "a = b\n",
        "print(a)"
      ],
      "metadata": {
        "colab": {
          "base_uri": "https://localhost:8080/"
        },
        "id": "0B4QDW_TdXpA",
        "outputId": "90794f02-3185-4a3f-8039-1ea6203a89e6"
      },
      "execution_count": null,
      "outputs": [
        {
          "output_type": "stream",
          "name": "stdout",
          "text": [
            "10\n"
          ]
        }
      ]
    },
    {
      "cell_type": "code",
      "source": [
        "# 5. Operadores Relacionais Compostos.\n",
        "#10 >= 10\n",
        "#10 <= 9\n",
        "#9.9 != 10\n",
        "c = 10\n",
        "b = 9.9\n",
        "c == b"
      ],
      "metadata": {
        "colab": {
          "base_uri": "https://localhost:8080/"
        },
        "id": "qLPjptM6eVQw",
        "outputId": "12e6fd1e-c707-48bc-a04b-ae1756b23295"
      },
      "execution_count": null,
      "outputs": [
        {
          "output_type": "execute_result",
          "data": {
            "text/plain": [
              "False"
            ]
          },
          "metadata": {},
          "execution_count": 4
        }
      ]
    },
    {
      "cell_type": "code",
      "source": [
        "matricula = input('Qual é a sua matrícula? ')\n",
        "print(f'Sua matrícula é {matricula}. ')"
      ],
      "metadata": {
        "colab": {
          "base_uri": "https://localhost:8080/"
        },
        "id": "nlqkeVI6e-br",
        "outputId": "06275c5b-73b5-4f81-cdc5-dee9b5dfb7c5"
      },
      "execution_count": null,
      "outputs": [
        {
          "output_type": "stream",
          "name": "stdout",
          "text": [
            "Qual é a sua matrícula? 123\n",
            "Sua matrícula é 123. \n"
          ]
        }
      ]
    },
    {
      "cell_type": "code",
      "source": [
        "# Estrutura condicionais\n",
        "numero = int(input('Digite um número: '))\n",
        "if numero % 2 == 0:\n",
        "  print(f'O número {numero} é par!')\n",
        "else:\n",
        "  print(f'O número {numero} é ímpar!')"
      ],
      "metadata": {
        "colab": {
          "base_uri": "https://localhost:8080/"
        },
        "id": "s535ckbGOfXW",
        "outputId": "8108e849-a402-4dac-b0db-458f2d5529c0"
      },
      "execution_count": null,
      "outputs": [
        {
          "output_type": "stream",
          "name": "stdout",
          "text": [
            "Digite um número: 99\n",
            "O número 99 é ímpar!\n"
          ]
        }
      ]
    },
    {
      "cell_type": "code",
      "source": [
        "# 9. Estruturas Condicionais\n",
        "#    Aninhadas e o elif;\n",
        "num = float(input('Digite um número: '))\n",
        "if num > 0:\n",
        "   print('Este número é positivo')\n",
        "elif num == 0:\n",
        "   print('Este número é neutro')\n",
        "else:\n",
        "   print('Este número é negativo')"
      ],
      "metadata": {
        "colab": {
          "base_uri": "https://localhost:8080/"
        },
        "id": "t8jofdsRQBS-",
        "outputId": "823ab0ad-79c9-4d18-aa17-cfe6f4de686d"
      },
      "execution_count": null,
      "outputs": [
        {
          "output_type": "stream",
          "name": "stdout",
          "text": [
            "Digite um número: 5\n",
            "Este número é positivo\n"
          ]
        }
      ]
    }
  ]
}